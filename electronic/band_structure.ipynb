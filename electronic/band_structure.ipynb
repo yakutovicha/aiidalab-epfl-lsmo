{
 "cells": [
  {
   "cell_type": "markdown",
   "metadata": {},
   "source": [
    "# Band Structure Results"
   ]
  },
  {
   "cell_type": "code",
   "execution_count": null,
   "metadata": {},
   "outputs": [],
   "source": [
    "%aiida\n",
    "from aiida.orm import BandsData, StructureData\n",
    "from aiidalab_widgets_base import viewer\n",
    "from aiida_cp2k.calculations import Cp2kCalculation\n",
    "import ipywidgets as ipw\n",
    "from IPython.display import clear_output"
   ]
  },
  {
   "cell_type": "code",
   "execution_count": null,
   "metadata": {},
   "outputs": [],
   "source": [
    "q_bands = QueryBuilder()\n",
    "q_bands.append(Group, filters={'label': 'cof_screening_one'}, tag='group')\n",
    "q_bands.append(WorkChainNode, with_group='group', tag='workchain')\n",
    "q_bands.append(StructureData, with_outgoing='workchain', project='label')\n",
    "q_bands.append(BandsData, tag='bands', with_incoming='workchain', project=['*'])\n",
    "q_bands.append(Cp2kCalculation, with_outgoing='bands', tag='cp2k')\n",
    "q_bands.append(StructureData, with_outgoing='cp2k', project=['*'], tag='structure')\n",
    "\n",
    "\n",
    "output = ipw.Output()\n",
    "\n",
    "def on_selection(_=None):\n",
    "    with output:\n",
    "        clear_output()\n",
    "        bands = dropdown.value[0]\n",
    "        strct = dropdown.value[1]\n",
    "        if strct is not None:\n",
    "            display(viewer(strct), viewer(bands))\n",
    "\n",
    "options = {r[0]:(r[1], r[2]) for r in q_bands.all()}\n",
    "options.update({'Select structure': (None, None)})\n",
    "dropdown = ipw.Dropdown(options=options, value=(None, None), description=\"Select structure\", style={'description_width':'initial'})\n",
    "dropdown.observe(on_selection, names='value')\n",
    "display(dropdown, output)"
   ]
  }
 ],
 "metadata": {
  "kernelspec": {
   "display_name": "Python 3",
   "language": "python",
   "name": "python3"
  },
  "language_info": {
   "codemirror_mode": {
    "name": "ipython",
    "version": 3
   },
   "file_extension": ".py",
   "mimetype": "text/x-python",
   "name": "python",
   "nbconvert_exporter": "python",
   "pygments_lexer": "ipython3",
   "version": "3.7.4"
  }
 },
 "nbformat": 4,
 "nbformat_minor": 4
}
